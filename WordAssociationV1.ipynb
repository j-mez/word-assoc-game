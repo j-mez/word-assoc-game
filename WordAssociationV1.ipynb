{
 "cells": [
  {
   "cell_type": "code",
   "execution_count": 1,
   "metadata": {
    "collapsed": true
   },
   "outputs": [],
   "source": [
    "import matplotlib.pyplot as plt\n",
    "import networkx as nx"
   ]
  },
  {
   "cell_type": "markdown",
   "metadata": {},
   "source": [
    "### Global Variables"
   ]
  },
  {
   "cell_type": "code",
   "execution_count": null,
   "metadata": {
    "collapsed": true
   },
   "outputs": [],
   "source": [
    "global network = {} #node:edges\n",
    "# global unguessed = {} #unguessed and cannot be guesed yet\n",
    "# global available = {} #can be guessed\n",
    "# global guessed = {} #guessed\n",
    "global guessed = []\n",
    "global unguessed = []\n",
    "global available = []\n",
    "global remaining = 0 "
   ]
  },
  {
   "cell_type": "code",
   "execution_count": 2,
   "metadata": {
    "collapsed": true
   },
   "outputs": [],
   "source": [
    "class Node(object):\n",
    "    name = \"\"\n",
    "    links = []\n",
    "\n",
    "    # The class \"constructor\" - It's actually an initializer \n",
    "    def __init__(self, name, links):\n",
    "        self.name = name\n",
    "        self.links = links"
   ]
  },
  {
   "cell_type": "code",
   "execution_count": 5,
   "metadata": {},
   "outputs": [
    {
     "name": "stdout",
     "output_type": "stream",
     "text": [
      "['jupyter']\n"
     ]
    }
   ],
   "source": [
    "a = Node(\"planets\",[\"jupyter\"])\n",
    "print(a.links)"
   ]
  },
  {
   "cell_type": "code",
   "execution_count": 6,
   "metadata": {
    "collapsed": true
   },
   "outputs": [],
   "source": [
    "def add_node(new_node):\n",
    "    network[new_node.name] = new_node\n",
    "    return True"
   ]
  },
  {
   "cell_type": "code",
   "execution_count": 8,
   "metadata": {},
   "outputs": [],
   "source": [
    "def guess(word):\n",
    "    if word in guessed:\n",
    "        print(\"Already guessed {}\".format(word))\n",
    "        return False\n",
    "    elif word in available:\n",
    "        print(\"Yes, {} is now unlocked\".format(word))\n",
    "        return True\n",
    "    elif word in unguessed:\n",
    "        print(\"{} is not a valid guess\".format(word))\n",
    "        return False"
   ]
  },
  {
   "cell_type": "code",
   "execution_count": 13,
   "metadata": {
    "collapsed": true
   },
   "outputs": [],
   "source": [
    "def censor(word):\n",
    "    out = []\n",
    "    alphabet = \"abcdefghijklmnopqrstuvwxyz\"\n",
    "    for c in word:\n",
    "        if c in alphabet:\n",
    "            out.append(\"x\")\n",
    "        else:\n",
    "            out.append(c)\n",
    "    return \"\".join(out)"
   ]
  },
  {
   "cell_type": "code",
   "execution_count": 14,
   "metadata": {},
   "outputs": [],
   "source": [
    "def observe(node):\n",
    "    neighbor_name = []\n",
    "    self_name = node.name\n",
    "    if node.name not in guessed:\n",
    "        self_name = censor(node.name) \n",
    "    for neighbor in node.links:\n",
    "        if neighbor.name not in guessed:\n",
    "            neighbor_name.append(censor(neighbor.name))\n",
    "        else:\n",
    "            neighbor_name.append(neighbor.name)\n",
    "    return self_name, neighbor_name"
   ]
  },
  {
   "cell_type": "code",
   "execution_count": null,
   "metadata": {
    "collapsed": true
   },
   "outputs": [],
   "source": [
    "def reset():\n",
    "    pass"
   ]
  }
 ],
 "metadata": {
  "kernelspec": {
   "display_name": "Python 3",
   "language": "python",
   "name": "python3"
  },
  "language_info": {
   "codemirror_mode": {
    "name": "ipython",
    "version": 3
   },
   "file_extension": ".py",
   "mimetype": "text/x-python",
   "name": "python",
   "nbconvert_exporter": "python",
   "pygments_lexer": "ipython3",
   "version": "3.6.3"
  }
 },
 "nbformat": 4,
 "nbformat_minor": 2
}
